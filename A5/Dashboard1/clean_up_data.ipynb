{
 "cells": [
  {
   "cell_type": "code",
   "execution_count": 269,
   "metadata": {},
   "outputs": [],
   "source": [
    "import pandas as pd\n",
    "import numpy as np\n"
   ]
  },
  {
   "cell_type": "markdown",
   "metadata": {},
   "source": [
    "# Read in data"
   ]
  },
  {
   "cell_type": "code",
   "execution_count": 301,
   "metadata": {},
   "outputs": [],
   "source": [
    "df1 = pd.read_csv('10_Renewable_Energy.csv')\n",
    "df2 = pd.read_csv('14_CLimate-related_Disasters_Frequency.csv')\n",
    "df3 = pd.read_csv('23_Annual_Surface_Temperature_Change.csv')\n"
   ]
  },
  {
   "cell_type": "markdown",
   "metadata": {},
   "source": [
    "# Delete rows of non-countries"
   ]
  },
  {
   "cell_type": "code",
   "execution_count": 302,
   "metadata": {},
   "outputs": [],
   "source": [
    "l_delete_countries_df1 = ['Advanced Economies', 'Africa', 'Americas',\n",
    " 'Asia',\n",
    " 'Central Asia',\n",
    " 'Eastern Asia',\n",
    " 'Eastern Europe',\n",
    " 'Emerging and Developing Economies',\n",
    " 'Europe',\n",
    " 'G20',\n",
    " 'G7',\n",
    " 'Latin America and the Caribbean',\n",
    " 'Northern Africa',\n",
    " 'Northern America',\n",
    " 'Northern Europe',\n",
    " 'Oceania',\n",
    " 'Oceania sub-regions',\n",
    " 'Réunion',\n",
    " 'South Georgia and the South Sandwich Islands',\n",
    " 'South-eastern Asia',\n",
    " 'Southern Asia',\n",
    " 'Southern Europe',\n",
    " 'Sub-Saharan Africa',\n",
    " 'Western Asia',\n",
    " 'Western Europe',\n",
    " 'World']\n",
    "\n",
    "df1 = df1[~df1['Country'].isin(l_delete_countries_df1)]"
   ]
  },
  {
   "cell_type": "code",
   "execution_count": 279,
   "metadata": {},
   "outputs": [],
   "source": [
    "l_delete_countries_df2 = [\n",
    "'China, P.R.: Macao',\n",
    "'Germany Dem Rep (former)',\n",
    "'Germany Fed Rep (former)',\n",
    "'Serbia and Montenegro',\n",
    "'Soviet Union (former)'\n",
    "]\n",
    "\n",
    "df2 = df2[~df2['Country'].isin(l_delete_countries_df2)]"
   ]
  },
  {
   "cell_type": "code",
   "execution_count": 273,
   "metadata": {},
   "outputs": [],
   "source": [
    "l_delete_countries_df3 = [\n",
    "    'Africa',\n",
    "    'Americas',\n",
    "    'Antarctica',\n",
    "    'Asia',\n",
    "    'China, P.R.: Macao',\n",
    "    'Europe',\n",
    "    'Oceania',\n",
    "    'Western Sahara',\n",
    "    'World'\n",
    "]\n",
    "\n",
    "df3 = df3[~df3['Country'].isin(l_delete_countries_df3)]"
   ]
  },
  {
   "cell_type": "markdown",
   "metadata": {},
   "source": [
    "# Transform the columns if needed\n"
   ]
  },
  {
   "cell_type": "code",
   "execution_count": 274,
   "metadata": {},
   "outputs": [],
   "source": [
    "df1 = df1[df1['Indicator'] == 'Electricity Generation']\n",
    "\n",
    "# Function to calculate the ratio\n",
    "def calculate_ratio(group, col):\n",
    "    renewable = group.loc[group['Energy Type'] == 'Total Renewable', col].sum()\n",
    "    non_renewable = group.loc[group['Energy Type'] == 'Total Non-Renewable', col].sum()\n",
    "    return renewable / non_renewable if non_renewable != 0 else np.nan  # Avoid division by zero\n",
    "\n",
    "# Apply transformation for each column\n",
    "new_column_name = 'Ratio of Renewable and Non-Renewable energy'\n",
    "ratio = df1.groupby('Country').apply(lambda x: calculate_ratio(x, '2021'))\n",
    "\n",
    "df1[new_column_name] = df1['Country'].map(ratio)\n",
    "df1 = df1[['Country', new_column_name]].drop_duplicates()\n",
    "df1['Year'] = 2021\n"
   ]
  },
  {
   "cell_type": "code",
   "execution_count": 306,
   "metadata": {},
   "outputs": [],
   "source": [
    "# Function to calculate the ratio\n",
    "def calculate_ratio(group, col):\n",
    "    renewable = group.loc[group['Energy Type'] == 'Total Renewable', col].sum()\n",
    "    non_renewable = group.loc[group['Energy Type'] == 'Total Non-Renewable', col].sum()\n",
    "    return renewable / non_renewable if non_renewable != 0 else np.nan  # Avoid division by zero\n",
    "\n",
    "# Apply transformation for each column\n",
    "new_column_name = 'Ratio of Renewable and Non-Renewable energy'\n",
    "ratio = df1.groupby('Country').apply(lambda x: calculate_ratio(x, '2012'))"
   ]
  },
  {
   "cell_type": "code",
   "execution_count": 280,
   "metadata": {},
   "outputs": [],
   "source": [
    "tmp = pd.DataFrame(columns=['Country', 'Year', '#Disasters'])\n",
    "df2 = df2[df2['Indicator'] == 'Climate related disasters frequency, Number of Disasters: TOTAL']\n",
    "df2.fillna(0, inplace=True)\n",
    "\n",
    "for index in df2.index:\n",
    "    country = df2.loc[index, 'Country']\n",
    "    for year_column in [str(year) for year in range(1980, 2023)]:\n",
    "        value = df2.loc[index, year_column]\n",
    "        new_row = pd.DataFrame([{\n",
    "            'Country': country,\n",
    "            'Year': year_column,\n",
    "            '#Disasters': value\n",
    "        }])\n",
    "        tmp = pd.concat([tmp, new_row], ignore_index=True)\n",
    "\n",
    "df2 = tmp\n",
    "\n",
    "df2['Year'] = df2['Year'].astype(int)\n"
   ]
  },
  {
   "cell_type": "code",
   "execution_count": 281,
   "metadata": {},
   "outputs": [],
   "source": [
    "year_columns = [str(year) for year in range(1961, 2024)]\n",
    "\n",
    "df3.loc[:, f'Temperature Change'] = df3['2023']\n",
    "\n",
    "columns_to_keep = ['Country', 'Temperature Change']\n",
    "\n",
    "df3 = df3[columns_to_keep]\n",
    "df3['Year'] = 2023\n"
   ]
  },
  {
   "cell_type": "markdown",
   "metadata": {},
   "source": [
    "# Merge the 3 dataframes"
   ]
  },
  {
   "cell_type": "code",
   "execution_count": 282,
   "metadata": {},
   "outputs": [],
   "source": [
    "merged_df = pd.merge(df1, df3, on=['Country', 'Year'], how='outer')\n",
    "merged_df = pd.merge(merged_df, df2, on=['Country', 'Year'], how='outer')\n"
   ]
  },
  {
   "cell_type": "code",
   "execution_count": 299,
   "metadata": {},
   "outputs": [
    {
     "data": {
      "text/plain": [
       "array([3.59444875e+00,            nan, 9.20711917e-03, 4.02911390e-02,\n",
       "       1.40088112e+01, 2.80289858e+00, 2.53562923e-02, 5.99512716e-02,\n",
       "       3.64997792e-01, 4.39735419e-01, 1.73676312e-01, 3.60460053e-01,\n",
       "       2.93098197e+00, 6.15552688e-02, 4.83141729e-03, 3.84816408e-04,\n",
       "       1.59477618e-02, 7.90398242e-02, 3.48807828e-02, 2.92314065e-01,\n",
       "       1.30067803e+01, 2.17041609e-03, 6.19526810e-01, 3.18143460e-01,\n",
       "       6.33127753e-01, 2.37565420e-03, 3.41796301e+00, 2.30838323e-02,\n",
       "       2.51884924e-04, 2.76658622e-01, 3.76919111e-01, 1.58421892e+00,\n",
       "       2.23469444e-01, 1.43591728e+00, 3.82409257e+00, 2.07210909e+00,\n",
       "       3.02790558e-02, 2.73429178e+01, 5.91819187e-02, 9.56677895e-01,\n",
       "       8.45418846e-03, 3.92429000e-01, 3.06208266e+00, 0.00000000e+00,\n",
       "       1.03538633e+02, 6.85153807e-01, 2.68040072e-01, 4.42529580e+03,\n",
       "       2.30323710e-01, 2.24835024e+00, 5.39307681e-02, 2.41759789e-01,\n",
       "       1.78323448e-01, 1.44016695e-01, 3.75325498e+00, 5.46875000e-01,\n",
       "       2.54447739e-01, 2.04211598e-01, 4.26197234e+00, 1.40668404e-01,\n",
       "       6.14632168e+00, 1.35768360e-01, 5.27899761e-02, 6.65414295e-01,\n",
       "       4.60219000e+02, 3.14138005e-01, 6.15091463e-01, 1.50411188e+00,\n",
       "       1.12456198e+00, 2.82686731e-01, 3.11172292e-01, 1.17177024e+00,\n",
       "       1.62860967e-02, 4.32376240e+00, 6.45517322e-01, 5.33702249e-01,\n",
       "       6.79485878e-01, 3.35570042e+00, 2.00818652e-02, 5.11452911e-01,\n",
       "       5.04268056e-02, 2.74685214e+00, 2.23455355e+00, 7.42626470e+00,\n",
       "       7.62185281e-02, 7.64915556e-02, 2.22762100e-01, 1.68029790e+00,\n",
       "       2.36772093e-01, 7.96150690e+03, 2.32850635e-01, 2.21033331e-01,\n",
       "       4.37801700e-02, 5.56835838e-02, 5.73253926e-01, 8.24857398e-02,\n",
       "       6.73602366e-01, 1.46276837e-01, 2.52256937e-01, 3.19614226e-01,\n",
       "       1.23549426e-01, 7.42525683e+00, 1.95675676e-01, 1.71998362e+00,\n",
       "       6.54724687e-02, 6.80837419e-02, 2.65698966e-03, 5.94118170e+00,\n",
       "       2.25935487e+00, 1.74677058e+00, 3.62117549e-02, 4.66431201e+02,\n",
       "       1.34860204e+00, 2.25036827e-04, 1.06707640e+00, 8.10659513e-01,\n",
       "       7.49113344e-01, 4.01385790e+00, 2.17181350e-01, 6.17987224e-02,\n",
       "       1.65205315e+00, 1.34867595e-01, 2.49244617e-02, 3.50634431e-01,\n",
       "       2.40007080e-01, 2.76073450e-01, 1.37441638e-01, 2.66884098e-01,\n",
       "       5.20644843e-02, 1.04486978e-01, 1.14448148e-01, 1.61533135e+00,\n",
       "       1.14714286e-01, 2.33572364e-01, 5.46002065e+00, 8.65583949e-01,\n",
       "       9.78557222e+00, 1.08956301e-01, 1.88536837e+05, 4.95607436e-01,\n",
       "       2.89942890e-01, 4.38809035e+00, 2.25690306e+00, 8.81734047e-02,\n",
       "       3.39395625e-01, 1.60506502e-01, 4.42391157e-01, 8.36993942e+01,\n",
       "       1.93637435e-02, 4.24457282e-01, 4.82213524e-02, 4.47099430e+00,\n",
       "       6.65521330e-01, 2.05265432e+04, 1.60885631e+00, 2.70925836e-01,\n",
       "       2.05295413e-01, 1.62265687e+00, 4.79807897e-02, 2.75714013e-03,\n",
       "       7.95240710e-01, 2.53351185e-01, 1.39501550e+00, 4.99882603e-04,\n",
       "       9.66148536e-01, 6.44736023e-02, 6.57595281e-04, 2.62211154e-01,\n",
       "       4.95029580e-01, 4.72815413e-02, 3.04557500e+00, 4.23561702e-02,\n",
       "       2.91677425e-01, 5.22495589e-01, 7.01603725e-02, 1.26291176e-01,\n",
       "       5.44380929e-02, 3.50457038e-03, 8.46405082e-01, 1.04761612e+00,\n",
       "       4.73904311e-02, 2.61033576e-02, 8.16671674e-03, 1.76715620e-01,\n",
       "       1.55035554e+00, 1.16689463e+00, 2.06448333e+00, 1.74900100e+00,\n",
       "       3.39190911e-02, 5.67285688e-02, 1.28378932e+01, 7.47545361e-01,\n",
       "       2.30734856e-01, 3.73193470e-03, 2.60414316e-01, 1.16761905e+01,\n",
       "       1.65470236e-01, 6.75361902e-04, 2.98800468e-02, 5.48433710e-01,\n",
       "       1.32911254e-04, 1.50646388e-02, 1.87784196e-01, 4.52470225e+01,\n",
       "       1.29179807e-01, 4.36994423e-02, 6.59929350e-01, 2.46914099e-01,\n",
       "       2.56904151e-02, 5.46371484e+00, 8.39296813e-02, 3.36074987e-01,\n",
       "       5.34679937e+00, 7.47867512e-01, 3.23853971e-01, 2.03101674e-01,\n",
       "       1.15243365e+01, 2.47907161e+00])"
      ]
     },
     "execution_count": 299,
     "metadata": {},
     "output_type": "execute_result"
    }
   ],
   "source": [
    "df1['Ratio of Renewable and Non-Renewable energy'].unique()"
   ]
  },
  {
   "cell_type": "markdown",
   "metadata": {},
   "source": [
    "# Add the continent column"
   ]
  },
  {
   "cell_type": "code",
   "execution_count": 285,
   "metadata": {},
   "outputs": [],
   "source": [
    "\n",
    "# Create a dictionary mapping countries to continents\n",
    "country_to_continent = {\n",
    "    'Afghanistan, Islamic Rep. of': 'Asia', 'Albania': 'Europe', 'Algeria': 'Africa',\n",
    "    'American Samoa': 'Oceania', 'Andorra, Principality of': 'Europe', 'Angola': 'Africa',\n",
    "    'Anguilla': 'North America', 'Antigua and Barbuda': 'North America', 'Argentina': 'South America',\n",
    "    'Armenia, Rep. of': 'Asia', 'Aruba, Kingdom of the Netherlands': 'North America', 'Australia': 'Oceania',\n",
    "    'Austria': 'Europe', 'Azerbaijan, Rep. of': 'Asia', 'Bahamas, The': 'North America',\n",
    "    'Bahrain, Kingdom of': 'Asia', 'Bangladesh': 'Asia', 'Barbados': 'North America', 'Belarus, Rep. of': 'Europe',\n",
    "    'Belgium': 'Europe', 'Belize': 'North America', 'Benin': 'Africa', 'Bhutan': 'Asia', 'Bolivia': 'South America',\n",
    "    'Bonaire, St. Eustatius and Saba': 'North America', 'Bosnia and Herzegovina': 'Europe', 'Botswana': 'Africa',\n",
    "    'Brazil': 'South America', 'British Virgin Islands': 'North America', 'Brunei Darussalam': 'Asia',\n",
    "    'Bulgaria': 'Europe', 'Burkina Faso': 'Africa', 'Burundi': 'Africa', 'Cabo Verde': 'Africa', 'Cambodia': 'Asia',\n",
    "    'Cameroon': 'Africa', 'Canada': 'North America', 'Cayman Islands': 'North America', 'Central African Rep.': 'Africa',\n",
    "    'Chad': 'Africa', 'Chile': 'South America', 'China, P.R.: Hong Kong': 'Asia', 'China, P.R.: Mainland': 'Asia',\n",
    "    'Colombia': 'South America', 'Comoros, Union of the': 'Africa', 'Congo, Dem. Rep. of the': 'Africa',\n",
    "    'Congo, Rep. of': 'Africa', 'Cook Islands': 'Oceania', 'Costa Rica': 'North America', \"Côte d'Ivoire\": 'Africa',\n",
    "    'Croatia, Rep. of': 'Europe', 'Cuba': 'North America', 'Curaçao, Kingdom of the Netherlands': 'North America', 'Cyprus': 'Asia', 'Czech Rep.': 'Europe',\n",
    "    'Denmark': 'Europe', 'Djibouti': 'Africa', 'Dominica': 'North America', 'Dominican Rep.': 'North America',\n",
    "    'Ecuador': 'South America', 'Egypt, Arab Rep. of': 'Africa', 'El Salvador': 'North America',\n",
    "    'Equatorial Guinea, Rep. of': 'Africa', 'Eritrea, The State of': 'Africa', 'Estonia, Rep. of': 'Europe',\n",
    "    'Eswatini, Kingdom of': 'Africa', 'Ethiopia, The Federal Dem. Rep. of': 'Africa',\n",
    "    'Falkland Islands (Malvinas)': 'South America', 'Faroe Islands': 'Europe', 'Fiji, Rep. of': 'Oceania',\n",
    "    'Finland': 'Europe', 'France': 'Europe', 'French Polynesia': 'Oceania', 'Gabon': 'Africa', 'Gambia, The': 'Africa',\n",
    "    'Georgia': 'Europe', 'Germany': 'Europe', 'Ghana': 'Africa', 'Greece': 'Europe', 'Greenland': 'North America',\n",
    "    'Grenada': 'North America', 'Guadeloupe': 'North America', 'Guam': 'Oceania', 'Guatemala': 'North America',\n",
    "    'Guiana, French': 'South America', 'Guinea': 'Africa', 'Guinea-Bissau': 'Africa', 'Guyana': 'South America',\n",
    "    'Haiti': 'North America', 'Honduras': 'North America', 'Hungary': 'Europe', 'Iceland': 'Europe', 'India': 'Asia',\n",
    "    'Indonesia': 'Asia', 'Iran, Islamic Rep. of': 'Asia', 'Iraq': 'Asia', 'Ireland': 'Europe', 'Israel': 'Asia',\n",
    "    'Italy': 'Europe', 'Jamaica': 'North America', 'Japan': 'Asia', 'Jordan': 'Asia', 'Kazakhstan, Rep. of': 'Asia',\n",
    "    'Kenya': 'Africa', 'Kiribati': 'Oceania', \"Korea, Dem. People's Rep. of\": 'Asia', 'Korea, Rep. of': 'Asia',\n",
    "    'Kosovo, Republic of': 'Europe', 'Kuwait': 'Asia', 'Kyrgyz Rep.': 'Asia', \"Lao People's Dem. Rep.\": 'Asia',\n",
    "    'Latvia': 'Europe', 'Lebanon': 'Asia', 'Lesotho, Kingdom of': 'Africa', 'Liberia': 'Africa', 'Libya': 'Africa',\n",
    "    'Lithuania': 'Europe', 'Luxembourg': 'Europe', 'Madagascar, Rep. of': 'Africa', 'Malawi': 'Africa',\n",
    "    'Malaysia': 'Asia', 'Maldives': 'Asia', 'Mali': 'Africa', 'Malta': 'Europe', 'Marshall Islands, Rep. of the': 'Oceania',\n",
    "    'Martinique': 'North America', 'Mauritania, Islamic Rep. of': 'Africa', 'Mauritius': 'Africa', 'Mayotte': 'Africa',\n",
    "    'Mexico': 'North America', 'Micronesia, Federated States of': 'Oceania', 'Moldova, Rep. of': 'Europe',\n",
    "    'Mongolia': 'Asia', 'Montenegro': 'Europe', 'Montserrat': 'North America', 'Morocco': 'Africa',\n",
    "    'Mozambique, Rep. of': 'Africa', 'Myanmar': 'Asia', 'Namibia': 'Africa', 'Nauru, Rep. of': 'Oceania',\n",
    "    'Nepal': 'Asia', 'Netherlands, The': 'Europe', 'New Caledonia': 'Oceania', 'New Zealand': 'Oceania',\n",
    "    'Nicaragua': 'North America', 'Niger': 'Africa', 'Nigeria': 'Africa', 'Niue': 'Oceania',\n",
    "    'North Macedonia, Republic of ': 'Europe', 'Norway': 'Europe', 'Oman': 'Asia', 'Pakistan': 'Asia',\n",
    "    'Palau, Rep. of': 'Oceania', 'Panama': 'North America', 'Papua New Guinea': 'Oceania', 'Paraguay': 'South America',\n",
    "    'Peru': 'South America', 'Philippines': 'Asia', 'Poland, Rep. of': 'Europe', 'Portugal': 'Europe',\n",
    "    'Puerto Rico': 'North America', 'Qatar': 'Asia', 'Romania': 'Europe', 'Russian Federation': 'Europe',\n",
    "    'Rwanda': 'Africa', 'Saint Barthélemy': 'North America', 'Saint Pierre and Miquelon': 'North America',\n",
    "    'Samoa': 'Oceania', 'São Tomé and Príncipe, Dem. Rep. of': 'Africa', 'Saudi Arabia': 'Asia', 'Senegal': 'Africa',\n",
    "    'Serbia, Rep. of': 'Europe', 'Seychelles': 'Africa', 'Sierra Leone': 'Africa', 'Singapore': 'Asia',\n",
    "    'Sint Maarten, Kingdom of the Netherlands': 'North America', 'Slovak Rep.': 'Europe', 'Slovenia, Rep. of': 'Europe',\n",
    "    'Solomon Islands': 'Oceania', 'Somalia': 'Africa', 'South Africa': 'Africa', 'South Georgia and the South Sandwich Islands': 'Antarctica',\n",
    "    'South Sudan, Rep. of': 'Africa', 'Spain': 'Europe', 'Sri Lanka': 'Asia', 'St. Kitts and Nevis': 'North America',\n",
    "    'St. Lucia': 'North America', 'St. Martin (French part)': 'North America', 'St. Vincent and the Grenadines': 'North America',\n",
    "    'Sudan': 'Africa', 'Suriname': 'South America', 'Sweden': 'Europe', 'Switzerland': 'Europe', 'Syrian Arab Rep.': 'Asia',\n",
    "    'Taiwan Province of China': 'Asia', 'Tajikistan, Rep. of': 'Asia', 'Tanzania, United Rep. of': 'Africa',\n",
    "    'Thailand': 'Asia', 'Timor-Leste, Dem. Rep. of': 'Asia', 'Togo': 'Africa', 'Tokelau': 'Oceania', 'Tonga': 'Oceania',\n",
    "    'Trinidad and Tobago': 'North America', 'Tunisia': 'Africa', 'Türkiye, Rep. of': 'Asia', 'Turkmenistan': 'Asia',\n",
    "    'Turks and Caicos Islands': 'North America', 'Tuvalu': 'Oceania', 'Uganda': 'Africa', 'Ukraine': 'Europe',\n",
    "    'United Arab Emirates': 'Asia', 'United Kingdom': 'Europe', 'United States': 'North America',\n",
    "    'United States Virgin Islands': 'North America', 'Uruguay': 'South America', 'Uzbekistan, Rep. of': 'Asia',\n",
    "    'Vanuatu': 'Oceania', 'Venezuela, Rep. Bolivariana de': 'South America', 'Vietnam': 'Asia', 'Wallis and Futuna Islands': 'Oceania',\n",
    "    'West Bank and Gaza': 'Asia', 'Yemen, Rep. of': 'Asia', 'Zambia': 'Africa', 'Zimbabwe': 'Africa', 'Gibraltar': 'Europe',\n",
    "    'Holy See': 'Europe', 'Isle of Man': 'Europe', 'Liechtenstein': 'Europe', 'Monaco': 'Europe', 'Norfolk Island': 'Oceania',\n",
    "    'Pitcairn Islands': 'Oceania', 'Réunion': 'Africa', 'Saint Helena': 'Africa', 'San Marino, Rep. of': 'Europe',\n",
    "    'Svalbard Jan Mayen Islands': 'Europe', 'Wallis and Futuna Islands': 'Oceania', 'Azores Island': 'Europe',\n",
    "    'Bermuda': 'North America', 'Canary Island': 'Europe', 'Netherlands Antilles': 'North America',\n",
    "    'Northern Mariana Islands': 'Oceania', 'Saint Martin (French Part)': 'North America'\n",
    "}\n",
    "\n",
    "# Map countries to continents using the dictionary\n",
    "merged_df['Continent'] = merged_df['Country'].map(country_to_continent)\n",
    "merged_df = merged_df[['Country', 'Continent', 'Year', '#Disasters', 'Ratio of Renewable and Non-Renewable energy', 'Temperature Change']]\n"
   ]
  },
  {
   "cell_type": "markdown",
   "metadata": {},
   "source": [
    "# Import the transformed data"
   ]
  },
  {
   "cell_type": "code",
   "execution_count": 292,
   "metadata": {},
   "outputs": [],
   "source": [
    "merged_df.to_csv('data_for_dashboard1.csv')"
   ]
  }
 ],
 "metadata": {
  "kernelspec": {
   "display_name": "Python 3",
   "language": "python",
   "name": "python3"
  },
  "language_info": {
   "codemirror_mode": {
    "name": "ipython",
    "version": 3
   },
   "file_extension": ".py",
   "mimetype": "text/x-python",
   "name": "python",
   "nbconvert_exporter": "python",
   "pygments_lexer": "ipython3",
   "version": "3.11.2"
  }
 },
 "nbformat": 4,
 "nbformat_minor": 2
}
