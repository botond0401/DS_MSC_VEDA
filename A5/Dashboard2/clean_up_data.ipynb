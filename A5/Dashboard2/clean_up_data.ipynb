{
 "cells": [
  {
   "cell_type": "code",
   "execution_count": 174,
   "metadata": {},
   "outputs": [],
   "source": [
    "import pandas as pd\n",
    "import numpy as np\n"
   ]
  },
  {
   "cell_type": "markdown",
   "metadata": {},
   "source": [
    "# Read in data"
   ]
  },
  {
   "cell_type": "code",
   "execution_count": 175,
   "metadata": {},
   "outputs": [],
   "source": [
    "df1 = pd.read_csv('7_Environmental_Taxes.csv')\n",
    "df2 = pd.read_csv('14_Climate-related_Disasters_Frequency.csv')\n",
    "df3 = pd.read_csv('8_Environmental_Protection_Expenditures.csv')\n"
   ]
  },
  {
   "cell_type": "code",
   "execution_count": 176,
   "metadata": {},
   "outputs": [],
   "source": [
    "min_year = 2014\n",
    "max_year = 2020\n",
    "num_years = max_year + 1 - min_year"
   ]
  },
  {
   "cell_type": "markdown",
   "metadata": {},
   "source": [
    "# Delete rows of non-countries"
   ]
  },
  {
   "cell_type": "code",
   "execution_count": 177,
   "metadata": {},
   "outputs": [],
   "source": [
    "l_delete_countries_df2 = [\n",
    "'Germany Dem Rep (former)',\n",
    "'Germany Fed Rep (former)',\n",
    "'Russian Federation',\n",
    "'Serbia and Montenegro',\n",
    "'Soviet Union (former)'\n",
    "]\n",
    "\n",
    "df2 = df2[~df2['Country'].isin(l_delete_countries_df2)]"
   ]
  },
  {
   "cell_type": "code",
   "execution_count": 178,
   "metadata": {},
   "outputs": [],
   "source": [
    "l_delete_countries_df3 = [\n",
    "    'Russian Federation'\n",
    "]\n",
    "\n",
    "df3 = df3[~df3['Country'].isin(l_delete_countries_df3)]"
   ]
  },
  {
   "cell_type": "markdown",
   "metadata": {},
   "source": [
    "# Transform the columns if needed\n"
   ]
  },
  {
   "cell_type": "code",
   "execution_count": 179,
   "metadata": {},
   "outputs": [],
   "source": [
    "tmp = pd.DataFrame(list(df1.Country.unique()) * num_years, columns=['Country'])\n",
    "tmp.sort_values('Country', ignore_index=True, inplace=True)\n",
    "tmp['Year'] = list(range(min_year, max_year + 1)) * len(df1.Country.unique())\n",
    "for col in ['Environmental Taxes', 'Taxes on Energy (including fuel for transport)',\n",
    "            'Taxes on Pollution', 'Taxes on Resources', 'Taxes on Transport (excluding fuel for transport)']:\n",
    "    tmp[col] = np.nan\n",
    "df1 = df1[df1['Unit'] == 'Percent of GDP']\n",
    "\n",
    "for index in df1.index:\n",
    "    country = df1.loc[index, 'Country']\n",
    "    tax_type = df1.loc[index, 'Indicator']\n",
    "    for year in [str(year) for year in range(min_year, max_year + 1)]:\n",
    "        value = df1.loc[index, year]\n",
    "        tmp.loc[(tmp['Country'] == country) & (tmp['Year'] == int(year)), tax_type] = value\n",
    "\n",
    "df1 = tmp\n"
   ]
  },
  {
   "cell_type": "code",
   "execution_count": 180,
   "metadata": {},
   "outputs": [],
   "source": [
    "tmp = pd.DataFrame(list(df2.Country.unique()) * num_years, columns=['Country'])\n",
    "tmp.sort_values('Country', ignore_index=True, inplace=True)\n",
    "tmp['Year'] = list(range(min_year, max_year + 1)) * len(df2.Country.unique())\n",
    "for col in ['Drought', 'Extreme temperature', 'Flood', 'Landslide', 'Storm', 'Wildfire', 'Total Disasters']:\n",
    "    tmp[col] = np.nan\n",
    "df2['Indicator'] = df2['Indicator'].replace({'Climate related disasters frequency, Number of Disasters: Drought': 'Drought',\n",
    "       'Climate related disasters frequency, Number of Disasters: Extreme temperature': 'Extreme temperature',\n",
    "       'Climate related disasters frequency, Number of Disasters: Flood': 'Flood',\n",
    "       'Climate related disasters frequency, Number of Disasters: Landslide': 'Landslide',\n",
    "       'Climate related disasters frequency, Number of Disasters: Storm': 'Storm',\n",
    "       'Climate related disasters frequency, Number of Disasters: TOTAL': 'Total Disasters',\n",
    "       'Climate related disasters frequency, Number of Disasters: Wildfire': 'Wildfire'})\n",
    "\n",
    "for index in df2.index:\n",
    "    country = df2.loc[index, 'Country']\n",
    "    disaster_type = df2.loc[index, 'Indicator']\n",
    "    for year in [str(year) for year in range(min_year, max_year + 1)]:\n",
    "        value = df2.loc[index, year]\n",
    "        tmp.loc[(tmp['Country'] == country) & (tmp['Year'] == int(year)), disaster_type] = value\n",
    "\n",
    "df2 = tmp\n"
   ]
  },
  {
   "cell_type": "code",
   "execution_count": 181,
   "metadata": {},
   "outputs": [],
   "source": [
    "tmp = pd.DataFrame(list(df3.Country.unique()) * num_years, columns=['Country'])\n",
    "tmp.sort_values('Country', ignore_index=True, inplace=True)\n",
    "tmp['Year'] = list(range(min_year, max_year + 1)) * len(df3.Country.unique())\n",
    "for col in ['Expenditure on biodiversity & landscape protection',\n",
    "       'Expenditure on environment protection',\n",
    "       'Expenditure on environmental protection n.e.c.',\n",
    "       'Expenditure on environmental protection R&D',\n",
    "       'Expenditure on pollution abatement',\n",
    "       'Expenditure on waste management',\n",
    "       'Expenditure on waste water management']:\n",
    "    tmp[col] = np.nan\n",
    "df3 = df3[df3['Unit'] == 'Percent of GDP']\n",
    "\n",
    "for index in df3.index:\n",
    "    country = df3.loc[index, 'Country']\n",
    "    expenditure_type = df3.loc[index, 'Indicator']\n",
    "    for year in [str(year) for year in range(min_year, max_year + 1)]:\n",
    "        value = df3.loc[index, year]\n",
    "        tmp.loc[(tmp['Country'] == country) & (tmp['Year'] == int(year)), expenditure_type] = value\n",
    "\n",
    "df3 = tmp\n"
   ]
  },
  {
   "cell_type": "markdown",
   "metadata": {},
   "source": [
    "# Merge the 3 dataframes"
   ]
  },
  {
   "cell_type": "code",
   "execution_count": 182,
   "metadata": {},
   "outputs": [],
   "source": [
    "merged_df = pd.merge(df1, df3, on=['Country', 'Year'], how='outer')\n",
    "merged_df = pd.merge(merged_df, df2, on=['Country', 'Year'], how='outer')\n"
   ]
  },
  {
   "cell_type": "code",
   "execution_count": 183,
   "metadata": {},
   "outputs": [],
   "source": [
    "merged_df[['Drought', 'Extreme temperature', 'Flood', 'Landslide', 'Storm', 'Wildfire', 'Total Disasters']] = merged_df[['Drought', 'Extreme temperature', 'Flood', 'Landslide', 'Storm', 'Wildfire', 'Total Disasters']].fillna(0)"
   ]
  },
  {
   "cell_type": "markdown",
   "metadata": {},
   "source": [
    "# Import the transformed data"
   ]
  },
  {
   "cell_type": "code",
   "execution_count": 184,
   "metadata": {},
   "outputs": [],
   "source": [
    "merged_df.to_csv('data_for_dashboard2.csv')"
   ]
  }
 ],
 "metadata": {
  "kernelspec": {
   "display_name": "Python 3",
   "language": "python",
   "name": "python3"
  },
  "language_info": {
   "codemirror_mode": {
    "name": "ipython",
    "version": 3
   },
   "file_extension": ".py",
   "mimetype": "text/x-python",
   "name": "python",
   "nbconvert_exporter": "python",
   "pygments_lexer": "ipython3",
   "version": "3.11.2"
  }
 },
 "nbformat": 4,
 "nbformat_minor": 2
}
